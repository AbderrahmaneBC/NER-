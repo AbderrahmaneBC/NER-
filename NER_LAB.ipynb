{
  "nbformat": 4,
  "nbformat_minor": 0,
  "metadata": {
    "colab": {
      "provenance": []
    },
    "kernelspec": {
      "name": "python3",
      "display_name": "Python 3"
    },
    "language_info": {
      "name": "python"
    }
  },
  "cells": [
    {
      "cell_type": "code",
      "execution_count": null,
      "metadata": {
        "id": "Y9jS6ivYBtEg",
        "colab": {
          "base_uri": "https://localhost:8080/"
        },
        "outputId": "c8a2636c-9990-4e31-d106-a2df9c3fc86b"
      },
      "outputs": [
        {
          "output_type": "stream",
          "name": "stdout",
          "text": [
            "['tok2vec', 'tagger', 'parser', 'attribute_ruler', 'lemmatizer', 'ner']\n"
          ]
        }
      ],
      "source": [
        "import spacy\n",
        "\n",
        "nlp = spacy.load(\"en_core_web_sm\")\n",
        "print(nlp.pipe_names)\n"
      ]
    },
    {
      "cell_type": "code",
      "source": [
        "nlp.add_pipe(\"token_splitter\")\n",
        "nlp.add_pipe(\"sentencizer\")\n",
        "print(nlp.pipe_names)"
      ],
      "metadata": {
        "id": "jnafVMJvDoTu",
        "colab": {
          "base_uri": "https://localhost:8080/"
        },
        "outputId": "3e30fec5-334b-458c-fb13-2b5bf57d66fd"
      },
      "execution_count": null,
      "outputs": [
        {
          "output_type": "stream",
          "name": "stdout",
          "text": [
            "['tok2vec', 'tagger', 'parser', 'attribute_ruler', 'lemmatizer', 'ner', 'token_splitter', 'sentencizer']\n"
          ]
        }
      ]
    },
    {
      "cell_type": "markdown",
      "source": [
        "Introduire un exemple de texte et efectuer un preprocessing"
      ],
      "metadata": {
        "id": "eN6CeIHNFkWk"
      }
    },
    {
      "cell_type": "code",
      "source": [
        "txt=nlp(\"The Massachusetts Institute of Technology (MIT) is a private land-grant research university in Cambridge, Massachusetts. Established in 1861, MIT has played a significant role in the development of many areas of modern technology and science.Founded in response to the increasing industrialization of the United States, MIT adopted a European polytechnic university model and stressed laboratory instruction in applied science and engineering. MIT is one of three private land grant universities in the United States, the others being Cornell University and Tuskegee University. The institute has an urban campus that extends more than a mile (1.6 km) alongside the Charles River, and encompasses a number of major off-campus facilities such as the MIT Lincoln Laboratory, the Bates Center, and the Haystack Observatory, as well as affiliated laboratories such as the Broad and Whitehead Institutes.\")\n",
        "print(list(txt.sents)[0])\n",
        "print(list(txt.sents)[1])\n",
        "print(list(txt.sents)[2])\n",
        "\n",
        "print(txt[0],txt[1],txt[2])\n"
      ],
      "metadata": {
        "colab": {
          "base_uri": "https://localhost:8080/"
        },
        "id": "W9_EryhFE8rR",
        "outputId": "fd55ae85-61c6-433b-99c4-1ae3aeb86d95"
      },
      "execution_count": null,
      "outputs": [
        {
          "output_type": "stream",
          "name": "stdout",
          "text": [
            "The Massachusetts Institute of Technology (MIT) is a private land-grant research university in Cambridge, Massachusetts.\n",
            "Established in 1861, MIT has played a significant role in the development of many areas of modern technology and science.\n",
            "Founded in response to the increasing industrialization of the United States, MIT adopted a European polytechnic university model and stressed laboratory instruction in applied science and engineering.\n",
            "The Massachusetts Institute\n"
          ]
        }
      ]
    },
    {
      "cell_type": "markdown",
      "source": [
        "Afficer les vocabulaire du texte\n"
      ],
      "metadata": {
        "id": "48p_YMyfI28D"
      }
    },
    {
      "cell_type": "code",
      "source": [
        "for word in txt[0 : 3]:\n",
        "    lexeme=txt.vocab[word.text]\n",
        "    print(lexeme.text,lexeme.shape_,lexeme.prefix_,lexeme.suffix_,lexeme.is_alpha,lexeme.is_digit,lexeme.lang_)\n",
        "\n",
        "\n"
      ],
      "metadata": {
        "colab": {
          "base_uri": "https://localhost:8080/"
        },
        "id": "VTaU8UjYHU2U",
        "outputId": "d66c463e-e6fe-4dd3-d9af-1427f41e7b9f"
      },
      "execution_count": null,
      "outputs": [
        {
          "output_type": "stream",
          "name": "stdout",
          "text": [
            "The Xxx T The True False en\n",
            "Massachusetts Xxxxx M tts True False en\n",
            "Institute Xxxxx I ute True False en\n"
          ]
        }
      ]
    },
    {
      "cell_type": "code",
      "source": [
        "for word in txt[0:20]:\n",
        "    print(f'{word.text:{15}},  {word.lemma_:{15}} {word.pos_:{8}} {word.tag_:{8}} {spacy.explain(word.pos_):20}{word.dep_:8}')\n",
        "\n"
      ],
      "metadata": {
        "colab": {
          "base_uri": "https://localhost:8080/"
        },
        "id": "On2b50GGKEeK",
        "outputId": "97a04053-1831-4c40-e40c-3d70823e0e5b"
      },
      "execution_count": null,
      "outputs": [
        {
          "output_type": "stream",
          "name": "stdout",
          "text": [
            "The            ,  the             DET      DT       determiner          det     \n",
            "Massachusetts  ,  Massachusetts   PROPN    NNP      proper noun         compound\n",
            "Institute      ,  Institute       PROPN    NNP      proper noun         nsubj   \n",
            "of             ,  of              ADP      IN       adposition          prep    \n",
            "Technology     ,  Technology      PROPN    NNP      proper noun         pobj    \n",
            "(              ,  (               PUNCT    -LRB-    punctuation         punct   \n",
            "MIT            ,  MIT             PROPN    NNP      proper noun         appos   \n",
            ")              ,  )               PUNCT    -RRB-    punctuation         punct   \n",
            "is             ,  be              AUX      VBZ      auxiliary           ROOT    \n",
            "a              ,  a               DET      DT       determiner          det     \n",
            "private        ,  private         ADJ      JJ       adjective           amod    \n",
            "land           ,  land            NOUN     NN       noun                compound\n",
            "-              ,  -               PUNCT    HYPH     punctuation         punct   \n",
            "grant          ,  grant           NOUN     NN       noun                compound\n",
            "research       ,  research        NOUN     NN       noun                compound\n",
            "university     ,  university      NOUN     NN       noun                attr    \n",
            "in             ,  in              ADP      IN       adposition          prep    \n",
            "Cambridge      ,  Cambridge       PROPN    NNP      proper noun         pobj    \n",
            ",              ,  ,               PUNCT    ,        punctuation         punct   \n",
            "Massachusetts  ,  Massachusetts   PROPN    NNP      proper noun         appos   \n"
          ]
        }
      ]
    },
    {
      "cell_type": "code",
      "source": [
        "import spacy\n",
        "from spacy import displacy\n",
        "\n",
        "span=txt[0:20]\n",
        "deptree=displacy.render(span,style=\"dep\")\n",
        "from IPython.core.display import SVG\n",
        "SVG(deptree)"
      ],
      "metadata": {
        "colab": {
          "base_uri": "https://localhost:8080/",
          "height": 616
        },
        "id": "_9d9NAYTMRPH",
        "outputId": "cc31bcd9-d7f6-4049-a1e8-438955c9ba1d"
      },
      "execution_count": null,
      "outputs": [
        {
          "output_type": "execute_result",
          "data": {
            "text/plain": [
              "<IPython.core.display.SVG object>"
            ],
            "image/svg+xml": "<svg xmlns=\"http://www.w3.org/2000/svg\" xmlns:xlink=\"http://www.w3.org/1999/xlink\" xml:lang=\"en\" id=\"8a7b7609e0c74ffebe0a41f366d61351-0\" class=\"displacy\" width=\"2850\" height=\"574.5\" direction=\"ltr\" style=\"max-width: none; height: 574.5px; color: #000000; background: #ffffff; font-family: Arial; direction: ltr\">\n<text class=\"displacy-token\" fill=\"currentColor\" text-anchor=\"middle\" y=\"484.5\">\n    <tspan class=\"displacy-word\" fill=\"currentColor\" x=\"50\">The</tspan>\n    <tspan class=\"displacy-tag\" dy=\"2em\" fill=\"currentColor\" x=\"50\">DET</tspan>\n</text>\n\n<text class=\"displacy-token\" fill=\"currentColor\" text-anchor=\"middle\" y=\"484.5\">\n    <tspan class=\"displacy-word\" fill=\"currentColor\" x=\"225\">Massachusetts</tspan>\n    <tspan class=\"displacy-tag\" dy=\"2em\" fill=\"currentColor\" x=\"225\">PROPN</tspan>\n</text>\n\n<text class=\"displacy-token\" fill=\"currentColor\" text-anchor=\"middle\" y=\"484.5\">\n    <tspan class=\"displacy-word\" fill=\"currentColor\" x=\"400\">Institute</tspan>\n    <tspan class=\"displacy-tag\" dy=\"2em\" fill=\"currentColor\" x=\"400\">PROPN</tspan>\n</text>\n\n<text class=\"displacy-token\" fill=\"currentColor\" text-anchor=\"middle\" y=\"484.5\">\n    <tspan class=\"displacy-word\" fill=\"currentColor\" x=\"575\">of</tspan>\n    <tspan class=\"displacy-tag\" dy=\"2em\" fill=\"currentColor\" x=\"575\">ADP</tspan>\n</text>\n\n<text class=\"displacy-token\" fill=\"currentColor\" text-anchor=\"middle\" y=\"484.5\">\n    <tspan class=\"displacy-word\" fill=\"currentColor\" x=\"750\">Technology (</tspan>\n    <tspan class=\"displacy-tag\" dy=\"2em\" fill=\"currentColor\" x=\"750\">PROPN</tspan>\n</text>\n\n<text class=\"displacy-token\" fill=\"currentColor\" text-anchor=\"middle\" y=\"484.5\">\n    <tspan class=\"displacy-word\" fill=\"currentColor\" x=\"925\">MIT)</tspan>\n    <tspan class=\"displacy-tag\" dy=\"2em\" fill=\"currentColor\" x=\"925\">PROPN</tspan>\n</text>\n\n<text class=\"displacy-token\" fill=\"currentColor\" text-anchor=\"middle\" y=\"484.5\">\n    <tspan class=\"displacy-word\" fill=\"currentColor\" x=\"1100\">is</tspan>\n    <tspan class=\"displacy-tag\" dy=\"2em\" fill=\"currentColor\" x=\"1100\">AUX</tspan>\n</text>\n\n<text class=\"displacy-token\" fill=\"currentColor\" text-anchor=\"middle\" y=\"484.5\">\n    <tspan class=\"displacy-word\" fill=\"currentColor\" x=\"1275\">a</tspan>\n    <tspan class=\"displacy-tag\" dy=\"2em\" fill=\"currentColor\" x=\"1275\">DET</tspan>\n</text>\n\n<text class=\"displacy-token\" fill=\"currentColor\" text-anchor=\"middle\" y=\"484.5\">\n    <tspan class=\"displacy-word\" fill=\"currentColor\" x=\"1450\">private</tspan>\n    <tspan class=\"displacy-tag\" dy=\"2em\" fill=\"currentColor\" x=\"1450\">ADJ</tspan>\n</text>\n\n<text class=\"displacy-token\" fill=\"currentColor\" text-anchor=\"middle\" y=\"484.5\">\n    <tspan class=\"displacy-word\" fill=\"currentColor\" x=\"1625\">land-</tspan>\n    <tspan class=\"displacy-tag\" dy=\"2em\" fill=\"currentColor\" x=\"1625\">NOUN</tspan>\n</text>\n\n<text class=\"displacy-token\" fill=\"currentColor\" text-anchor=\"middle\" y=\"484.5\">\n    <tspan class=\"displacy-word\" fill=\"currentColor\" x=\"1800\">grant</tspan>\n    <tspan class=\"displacy-tag\" dy=\"2em\" fill=\"currentColor\" x=\"1800\">NOUN</tspan>\n</text>\n\n<text class=\"displacy-token\" fill=\"currentColor\" text-anchor=\"middle\" y=\"484.5\">\n    <tspan class=\"displacy-word\" fill=\"currentColor\" x=\"1975\">research</tspan>\n    <tspan class=\"displacy-tag\" dy=\"2em\" fill=\"currentColor\" x=\"1975\">NOUN</tspan>\n</text>\n\n<text class=\"displacy-token\" fill=\"currentColor\" text-anchor=\"middle\" y=\"484.5\">\n    <tspan class=\"displacy-word\" fill=\"currentColor\" x=\"2150\">university</tspan>\n    <tspan class=\"displacy-tag\" dy=\"2em\" fill=\"currentColor\" x=\"2150\">NOUN</tspan>\n</text>\n\n<text class=\"displacy-token\" fill=\"currentColor\" text-anchor=\"middle\" y=\"484.5\">\n    <tspan class=\"displacy-word\" fill=\"currentColor\" x=\"2325\">in</tspan>\n    <tspan class=\"displacy-tag\" dy=\"2em\" fill=\"currentColor\" x=\"2325\">ADP</tspan>\n</text>\n\n<text class=\"displacy-token\" fill=\"currentColor\" text-anchor=\"middle\" y=\"484.5\">\n    <tspan class=\"displacy-word\" fill=\"currentColor\" x=\"2500\">Cambridge,</tspan>\n    <tspan class=\"displacy-tag\" dy=\"2em\" fill=\"currentColor\" x=\"2500\">PROPN</tspan>\n</text>\n\n<text class=\"displacy-token\" fill=\"currentColor\" text-anchor=\"middle\" y=\"484.5\">\n    <tspan class=\"displacy-word\" fill=\"currentColor\" x=\"2675\">Massachusetts</tspan>\n    <tspan class=\"displacy-tag\" dy=\"2em\" fill=\"currentColor\" x=\"2675\">PROPN</tspan>\n</text>\n\n<g class=\"displacy-arrow\">\n    <path class=\"displacy-arc\" id=\"arrow-8a7b7609e0c74ffebe0a41f366d61351-0-0\" stroke-width=\"2px\" d=\"M70,439.5 C70,264.5 385.0,264.5 385.0,439.5\" fill=\"none\" stroke=\"currentColor\"/>\n    <text dy=\"1.25em\" style=\"font-size: 0.8em; letter-spacing: 1px\">\n        <textPath xlink:href=\"#arrow-8a7b7609e0c74ffebe0a41f366d61351-0-0\" class=\"displacy-label\" startOffset=\"50%\" side=\"left\" fill=\"currentColor\" text-anchor=\"middle\">det</textPath>\n    </text>\n    <path class=\"displacy-arrowhead\" d=\"M70,441.5 L62,429.5 78,429.5\" fill=\"currentColor\"/>\n</g>\n\n<g class=\"displacy-arrow\">\n    <path class=\"displacy-arc\" id=\"arrow-8a7b7609e0c74ffebe0a41f366d61351-0-1\" stroke-width=\"2px\" d=\"M245,439.5 C245,352.0 380.0,352.0 380.0,439.5\" fill=\"none\" stroke=\"currentColor\"/>\n    <text dy=\"1.25em\" style=\"font-size: 0.8em; letter-spacing: 1px\">\n        <textPath xlink:href=\"#arrow-8a7b7609e0c74ffebe0a41f366d61351-0-1\" class=\"displacy-label\" startOffset=\"50%\" side=\"left\" fill=\"currentColor\" text-anchor=\"middle\">compound</textPath>\n    </text>\n    <path class=\"displacy-arrowhead\" d=\"M245,441.5 L237,429.5 253,429.5\" fill=\"currentColor\"/>\n</g>\n\n<g class=\"displacy-arrow\">\n    <path class=\"displacy-arc\" id=\"arrow-8a7b7609e0c74ffebe0a41f366d61351-0-2\" stroke-width=\"2px\" d=\"M420,439.5 C420,177.0 1090.0,177.0 1090.0,439.5\" fill=\"none\" stroke=\"currentColor\"/>\n    <text dy=\"1.25em\" style=\"font-size: 0.8em; letter-spacing: 1px\">\n        <textPath xlink:href=\"#arrow-8a7b7609e0c74ffebe0a41f366d61351-0-2\" class=\"displacy-label\" startOffset=\"50%\" side=\"left\" fill=\"currentColor\" text-anchor=\"middle\">nsubj</textPath>\n    </text>\n    <path class=\"displacy-arrowhead\" d=\"M420,441.5 L412,429.5 428,429.5\" fill=\"currentColor\"/>\n</g>\n\n<g class=\"displacy-arrow\">\n    <path class=\"displacy-arc\" id=\"arrow-8a7b7609e0c74ffebe0a41f366d61351-0-3\" stroke-width=\"2px\" d=\"M420,439.5 C420,352.0 555.0,352.0 555.0,439.5\" fill=\"none\" stroke=\"currentColor\"/>\n    <text dy=\"1.25em\" style=\"font-size: 0.8em; letter-spacing: 1px\">\n        <textPath xlink:href=\"#arrow-8a7b7609e0c74ffebe0a41f366d61351-0-3\" class=\"displacy-label\" startOffset=\"50%\" side=\"left\" fill=\"currentColor\" text-anchor=\"middle\">prep</textPath>\n    </text>\n    <path class=\"displacy-arrowhead\" d=\"M555.0,441.5 L563.0,429.5 547.0,429.5\" fill=\"currentColor\"/>\n</g>\n\n<g class=\"displacy-arrow\">\n    <path class=\"displacy-arc\" id=\"arrow-8a7b7609e0c74ffebe0a41f366d61351-0-4\" stroke-width=\"2px\" d=\"M595,439.5 C595,352.0 730.0,352.0 730.0,439.5\" fill=\"none\" stroke=\"currentColor\"/>\n    <text dy=\"1.25em\" style=\"font-size: 0.8em; letter-spacing: 1px\">\n        <textPath xlink:href=\"#arrow-8a7b7609e0c74ffebe0a41f366d61351-0-4\" class=\"displacy-label\" startOffset=\"50%\" side=\"left\" fill=\"currentColor\" text-anchor=\"middle\">pobj</textPath>\n    </text>\n    <path class=\"displacy-arrowhead\" d=\"M730.0,441.5 L738.0,429.5 722.0,429.5\" fill=\"currentColor\"/>\n</g>\n\n<g class=\"displacy-arrow\">\n    <path class=\"displacy-arc\" id=\"arrow-8a7b7609e0c74ffebe0a41f366d61351-0-5\" stroke-width=\"2px\" d=\"M420,439.5 C420,264.5 910.0,264.5 910.0,439.5\" fill=\"none\" stroke=\"currentColor\"/>\n    <text dy=\"1.25em\" style=\"font-size: 0.8em; letter-spacing: 1px\">\n        <textPath xlink:href=\"#arrow-8a7b7609e0c74ffebe0a41f366d61351-0-5\" class=\"displacy-label\" startOffset=\"50%\" side=\"left\" fill=\"currentColor\" text-anchor=\"middle\">appos</textPath>\n    </text>\n    <path class=\"displacy-arrowhead\" d=\"M910.0,441.5 L918.0,429.5 902.0,429.5\" fill=\"currentColor\"/>\n</g>\n\n<g class=\"displacy-arrow\">\n    <path class=\"displacy-arc\" id=\"arrow-8a7b7609e0c74ffebe0a41f366d61351-0-6\" stroke-width=\"2px\" d=\"M1295,439.5 C1295,89.5 2145.0,89.5 2145.0,439.5\" fill=\"none\" stroke=\"currentColor\"/>\n    <text dy=\"1.25em\" style=\"font-size: 0.8em; letter-spacing: 1px\">\n        <textPath xlink:href=\"#arrow-8a7b7609e0c74ffebe0a41f366d61351-0-6\" class=\"displacy-label\" startOffset=\"50%\" side=\"left\" fill=\"currentColor\" text-anchor=\"middle\">det</textPath>\n    </text>\n    <path class=\"displacy-arrowhead\" d=\"M1295,441.5 L1287,429.5 1303,429.5\" fill=\"currentColor\"/>\n</g>\n\n<g class=\"displacy-arrow\">\n    <path class=\"displacy-arc\" id=\"arrow-8a7b7609e0c74ffebe0a41f366d61351-0-7\" stroke-width=\"2px\" d=\"M1470,439.5 C1470,177.0 2140.0,177.0 2140.0,439.5\" fill=\"none\" stroke=\"currentColor\"/>\n    <text dy=\"1.25em\" style=\"font-size: 0.8em; letter-spacing: 1px\">\n        <textPath xlink:href=\"#arrow-8a7b7609e0c74ffebe0a41f366d61351-0-7\" class=\"displacy-label\" startOffset=\"50%\" side=\"left\" fill=\"currentColor\" text-anchor=\"middle\">amod</textPath>\n    </text>\n    <path class=\"displacy-arrowhead\" d=\"M1470,441.5 L1462,429.5 1478,429.5\" fill=\"currentColor\"/>\n</g>\n\n<g class=\"displacy-arrow\">\n    <path class=\"displacy-arc\" id=\"arrow-8a7b7609e0c74ffebe0a41f366d61351-0-8\" stroke-width=\"2px\" d=\"M1645,439.5 C1645,352.0 1780.0,352.0 1780.0,439.5\" fill=\"none\" stroke=\"currentColor\"/>\n    <text dy=\"1.25em\" style=\"font-size: 0.8em; letter-spacing: 1px\">\n        <textPath xlink:href=\"#arrow-8a7b7609e0c74ffebe0a41f366d61351-0-8\" class=\"displacy-label\" startOffset=\"50%\" side=\"left\" fill=\"currentColor\" text-anchor=\"middle\">compound</textPath>\n    </text>\n    <path class=\"displacy-arrowhead\" d=\"M1645,441.5 L1637,429.5 1653,429.5\" fill=\"currentColor\"/>\n</g>\n\n<g class=\"displacy-arrow\">\n    <path class=\"displacy-arc\" id=\"arrow-8a7b7609e0c74ffebe0a41f366d61351-0-9\" stroke-width=\"2px\" d=\"M1820,439.5 C1820,264.5 2135.0,264.5 2135.0,439.5\" fill=\"none\" stroke=\"currentColor\"/>\n    <text dy=\"1.25em\" style=\"font-size: 0.8em; letter-spacing: 1px\">\n        <textPath xlink:href=\"#arrow-8a7b7609e0c74ffebe0a41f366d61351-0-9\" class=\"displacy-label\" startOffset=\"50%\" side=\"left\" fill=\"currentColor\" text-anchor=\"middle\">compound</textPath>\n    </text>\n    <path class=\"displacy-arrowhead\" d=\"M1820,441.5 L1812,429.5 1828,429.5\" fill=\"currentColor\"/>\n</g>\n\n<g class=\"displacy-arrow\">\n    <path class=\"displacy-arc\" id=\"arrow-8a7b7609e0c74ffebe0a41f366d61351-0-10\" stroke-width=\"2px\" d=\"M1995,439.5 C1995,352.0 2130.0,352.0 2130.0,439.5\" fill=\"none\" stroke=\"currentColor\"/>\n    <text dy=\"1.25em\" style=\"font-size: 0.8em; letter-spacing: 1px\">\n        <textPath xlink:href=\"#arrow-8a7b7609e0c74ffebe0a41f366d61351-0-10\" class=\"displacy-label\" startOffset=\"50%\" side=\"left\" fill=\"currentColor\" text-anchor=\"middle\">compound</textPath>\n    </text>\n    <path class=\"displacy-arrowhead\" d=\"M1995,441.5 L1987,429.5 2003,429.5\" fill=\"currentColor\"/>\n</g>\n\n<g class=\"displacy-arrow\">\n    <path class=\"displacy-arc\" id=\"arrow-8a7b7609e0c74ffebe0a41f366d61351-0-11\" stroke-width=\"2px\" d=\"M1120,439.5 C1120,2.0 2150.0,2.0 2150.0,439.5\" fill=\"none\" stroke=\"currentColor\"/>\n    <text dy=\"1.25em\" style=\"font-size: 0.8em; letter-spacing: 1px\">\n        <textPath xlink:href=\"#arrow-8a7b7609e0c74ffebe0a41f366d61351-0-11\" class=\"displacy-label\" startOffset=\"50%\" side=\"left\" fill=\"currentColor\" text-anchor=\"middle\">attr</textPath>\n    </text>\n    <path class=\"displacy-arrowhead\" d=\"M2150.0,441.5 L2158.0,429.5 2142.0,429.5\" fill=\"currentColor\"/>\n</g>\n\n<g class=\"displacy-arrow\">\n    <path class=\"displacy-arc\" id=\"arrow-8a7b7609e0c74ffebe0a41f366d61351-0-12\" stroke-width=\"2px\" d=\"M2170,439.5 C2170,352.0 2305.0,352.0 2305.0,439.5\" fill=\"none\" stroke=\"currentColor\"/>\n    <text dy=\"1.25em\" style=\"font-size: 0.8em; letter-spacing: 1px\">\n        <textPath xlink:href=\"#arrow-8a7b7609e0c74ffebe0a41f366d61351-0-12\" class=\"displacy-label\" startOffset=\"50%\" side=\"left\" fill=\"currentColor\" text-anchor=\"middle\">prep</textPath>\n    </text>\n    <path class=\"displacy-arrowhead\" d=\"M2305.0,441.5 L2313.0,429.5 2297.0,429.5\" fill=\"currentColor\"/>\n</g>\n\n<g class=\"displacy-arrow\">\n    <path class=\"displacy-arc\" id=\"arrow-8a7b7609e0c74ffebe0a41f366d61351-0-13\" stroke-width=\"2px\" d=\"M2345,439.5 C2345,352.0 2480.0,352.0 2480.0,439.5\" fill=\"none\" stroke=\"currentColor\"/>\n    <text dy=\"1.25em\" style=\"font-size: 0.8em; letter-spacing: 1px\">\n        <textPath xlink:href=\"#arrow-8a7b7609e0c74ffebe0a41f366d61351-0-13\" class=\"displacy-label\" startOffset=\"50%\" side=\"left\" fill=\"currentColor\" text-anchor=\"middle\">pobj</textPath>\n    </text>\n    <path class=\"displacy-arrowhead\" d=\"M2480.0,441.5 L2488.0,429.5 2472.0,429.5\" fill=\"currentColor\"/>\n</g>\n\n<g class=\"displacy-arrow\">\n    <path class=\"displacy-arc\" id=\"arrow-8a7b7609e0c74ffebe0a41f366d61351-0-14\" stroke-width=\"2px\" d=\"M2520,439.5 C2520,352.0 2655.0,352.0 2655.0,439.5\" fill=\"none\" stroke=\"currentColor\"/>\n    <text dy=\"1.25em\" style=\"font-size: 0.8em; letter-spacing: 1px\">\n        <textPath xlink:href=\"#arrow-8a7b7609e0c74ffebe0a41f366d61351-0-14\" class=\"displacy-label\" startOffset=\"50%\" side=\"left\" fill=\"currentColor\" text-anchor=\"middle\">appos</textPath>\n    </text>\n    <path class=\"displacy-arrowhead\" d=\"M2655.0,441.5 L2663.0,429.5 2647.0,429.5\" fill=\"currentColor\"/>\n</g>\n</svg>"
          },
          "metadata": {},
          "execution_count": 31
        }
      ]
    },
    {
      "cell_type": "code",
      "source": [
        "for chunk in span.noun_chunks:\n",
        "  print(f'{chunk.text:{50}} {chunk.root.text:{15}} {chunk.root.dep_:{8}} {chunk.root.head.text:{15}}')"
      ],
      "metadata": {
        "colab": {
          "base_uri": "https://localhost:8080/"
        },
        "id": "xHtrsWK4Nd1o",
        "outputId": "25827017-89b9-4ea8-8c06-3b5871b41843"
      },
      "execution_count": null,
      "outputs": [
        {
          "output_type": "stream",
          "name": "stdout",
          "text": [
            "The Massachusetts Institute                        Institute       nsubj    is             \n",
            "Technology                                         Technology      pobj     of             \n",
            "MIT                                                MIT             appos    Institute      \n",
            "a private land-grant research university           university      attr     is             \n",
            "Cambridge                                          Cambridge       pobj     in             \n",
            "Massachusetts                                      Massachusetts   appos    Cambridge      \n"
          ]
        }
      ]
    },
    {
      "cell_type": "code",
      "source": [
        "from spacy.matcher import Matcher\n",
        "matcher=Matcher(nlp.vocab)\n",
        "pattern=[{'POS':'PROPN','OP': '+','IS_PUNCT':False}]\n",
        "matcher.add(\"ORG1\",[pattern])\n",
        "matches=matcher(txt)\n",
        "print(len(matches))\n",
        "for match in matches[:10]:\n",
        "  print(match,txt[match[1]:match[2]])\n",
        "\n",
        "matcher2=Matcher(nlp.vocab)\n",
        "matcher2.add(\"ORG2\",[pattern],greedy='LONGEST')\n",
        "matches=matcher2(txt)\n",
        "print(len(matches))\n",
        "for match in matches[:20]:\n",
        "  print(match,txt[match[1]:match[2]])\n",
        "\n"
      ],
      "metadata": {
        "colab": {
          "base_uri": "https://localhost:8080/"
        },
        "id": "yt_raFszP2Nd",
        "outputId": "df028a17-cec7-48e1-9dcc-cf85453ec16a"
      },
      "execution_count": null,
      "outputs": [
        {
          "output_type": "stream",
          "name": "stdout",
          "text": [
            "41\n",
            "(6582767286935887348, 1, 2) Massachusetts\n",
            "(6582767286935887348, 1, 3) Massachusetts Institute\n",
            "(6582767286935887348, 2, 3) Institute\n",
            "(6582767286935887348, 4, 5) Technology\n",
            "(6582767286935887348, 6, 7) MIT\n",
            "(6582767286935887348, 17, 18) Cambridge\n",
            "(6582767286935887348, 19, 20) Massachusetts\n",
            "(6582767286935887348, 25, 26) MIT\n",
            "(6582767286935887348, 52, 53) United\n",
            "(6582767286935887348, 52, 54) United States\n",
            "18\n",
            "(2631470707395093984, 129, 132) MIT Lincoln Laboratory\n",
            "(2631470707395093984, 1, 3) Massachusetts Institute\n",
            "(2631470707395093984, 52, 54) United States\n",
            "(2631470707395093984, 83, 85) United States\n",
            "(2631470707395093984, 89, 91) Cornell University\n",
            "(2631470707395093984, 92, 94) Tuskegee University\n",
            "(2631470707395093984, 113, 115) Charles River\n",
            "(2631470707395093984, 134, 136) Bates Center\n",
            "(2631470707395093984, 139, 141) Haystack Observatory\n",
            "(2631470707395093984, 152, 154) Whitehead Institutes\n",
            "(2631470707395093984, 4, 5) Technology\n",
            "(2631470707395093984, 6, 7) MIT\n",
            "(2631470707395093984, 17, 18) Cambridge\n",
            "(2631470707395093984, 19, 20) Massachusetts\n",
            "(2631470707395093984, 25, 26) MIT\n",
            "(2631470707395093984, 55, 56) MIT\n",
            "(2631470707395093984, 72, 73) MIT\n",
            "(2631470707395093984, 150, 151) Broad\n"
          ]
        }
      ]
    },
    {
      "cell_type": "code",
      "source": [
        "for ent in span.ents:\n",
        "  print(f'{ent.text:{50}} {ent.label_:{15}} {spacy.explain(ent.label_)}')\n",
        "SVG(displacy.render(span,style=\"ent\"))"
      ],
      "metadata": {
        "id": "BZxJx8_WSiuJ",
        "colab": {
          "base_uri": "https://localhost:8080/",
          "height": 121
        },
        "outputId": "d33e69ff-3423-48ce-b40e-ca3fc15e51f9"
      },
      "execution_count": null,
      "outputs": [
        {
          "output_type": "stream",
          "name": "stdout",
          "text": [
            "The Massachusetts Institute of Technology          ORG             Companies, agencies, institutions, etc.\n",
            "MIT                                                ORG             Companies, agencies, institutions, etc.\n",
            "Cambridge                                          GPE             Countries, cities, states\n",
            "Massachusetts                                      GPE             Countries, cities, states\n"
          ]
        },
        {
          "output_type": "execute_result",
          "data": {
            "text/plain": [
              "<IPython.core.display.SVG object>"
            ],
            "image/svg+xml": "<div class=\"entities\" style=\"line-height: 2.5; direction: ltr\">\n<mark class=\"entity\" style=\"background: #7aecec; padding: 0.45em 0.6em; margin: 0 0.25em; line-height: 1; border-radius: 0.35em;\">\n    The Massachusetts Institute of Technology\n    <span style=\"font-size: 0.8em; font-weight: bold; line-height: 1; border-radius: 0.35em; vertical-align: middle; margin-left: 0.5rem\">ORG</span>\n</mark>\n (\n<mark class=\"entity\" style=\"background: #7aecec; padding: 0.45em 0.6em; margin: 0 0.25em; line-height: 1; border-radius: 0.35em;\">\n    MIT\n    <span style=\"font-size: 0.8em; font-weight: bold; line-height: 1; border-radius: 0.35em; vertical-align: middle; margin-left: 0.5rem\">ORG</span>\n</mark>\n) is a private land-grant research university in \n<mark class=\"entity\" style=\"background: #feca74; padding: 0.45em 0.6em; margin: 0 0.25em; line-height: 1; border-radius: 0.35em;\">\n    Cambridge\n    <span style=\"font-size: 0.8em; font-weight: bold; line-height: 1; border-radius: 0.35em; vertical-align: middle; margin-left: 0.5rem\">GPE</span>\n</mark>\n, \n<mark class=\"entity\" style=\"background: #feca74; padding: 0.45em 0.6em; margin: 0 0.25em; line-height: 1; border-radius: 0.35em;\">\n    Massachusetts\n    <span style=\"font-size: 0.8em; font-weight: bold; line-height: 1; border-radius: 0.35em; vertical-align: middle; margin-left: 0.5rem\">GPE</span>\n</mark>\n</div>"
          },
          "metadata": {},
          "execution_count": 34
        }
      ]
    },
    {
      "cell_type": "code",
      "source": [
        "import nltk\n",
        "from nltk import download\n",
        "download('punkt')\n",
        "from nltk import sent_tokenize\n",
        "from nltk import word_tokenize\n",
        "from nltk.tag import StanfordNERTagger  # Corrected the import statement\n"
      ],
      "metadata": {
        "colab": {
          "base_uri": "https://localhost:8080/"
        },
        "id": "gEEFypf-aEj5",
        "outputId": "0cb82f76-05f8-4953-c6ac-43153e35c4d1"
      },
      "execution_count": null,
      "outputs": [
        {
          "output_type": "stream",
          "name": "stderr",
          "text": [
            "[nltk_data] Downloading package punkt to /root/nltk_data...\n",
            "[nltk_data]   Unzipping tokenizers/punkt.zip.\n"
          ]
        }
      ]
    },
    {
      "cell_type": "code",
      "source": [
        "\n",
        "ner3 = StanfordNERTagger('/content/drive/MyDrive/english.all.3class.distsim.crf.ser.gz', path_to_jar='/content/drive/MyDrive/stanford-ner-4.2.0.jar')\n",
        "sentences = sent_tokenize(text.text)\n",
        "tokenized_sentences =[word_tokenize(sentence) for sentence in sentences]\n",
        "for sent in tokenized_sentences[:3]:\n",
        "  print(sent)\n",
        "  ner3Out= ner3.tag(sent)\n",
        "  print(ner3Out)\n",
        "\n"
      ],
      "metadata": {
        "colab": {
          "base_uri": "https://localhost:8080/"
        },
        "id": "EWeLzDlhWfqx",
        "outputId": "9248664c-0285-400b-8435-32c819b2ff7e"
      },
      "execution_count": null,
      "outputs": [
        {
          "output_type": "stream",
          "name": "stdout",
          "text": [
            "['The', 'Massachusetts', 'Institute', 'of', 'Technology', '(', 'MIT', ')', 'is', 'a', 'private', 'land-grant', 'research', 'university', 'in', 'Cambridge', ',', 'Massachusetts', '.']\n",
            "[('The', 'O'), ('Massachusetts', 'ORGANIZATION'), ('Institute', 'ORGANIZATION'), ('of', 'ORGANIZATION'), ('Technology', 'ORGANIZATION'), ('(', 'O'), ('MIT', 'O'), (')', 'O'), ('is', 'O'), ('a', 'O'), ('private', 'O'), ('land-grant', 'O'), ('research', 'O'), ('university', 'O'), ('in', 'O'), ('Cambridge', 'LOCATION'), (',', 'O'), ('Massachusetts', 'LOCATION'), ('.', 'O')]\n",
            "['Established', 'in', '1861', ',', 'MIT', 'has', 'played', 'a', 'significant', 'role', 'in', 'the', 'development', 'of', 'many', 'areas', 'of', 'modern', 'technology', 'and', 'science.Founded', 'in', 'response', 'to', 'the', 'increasing', 'industrialization', 'of', 'the', 'United', 'States', ',', 'MIT', 'adopted', 'a', 'European', 'polytechnic', 'university', 'model', 'and', 'stressed', 'laboratory', 'instruction', 'in', 'applied', 'science', 'and', 'engineering', '.']\n",
            "[('Established', 'O'), ('in', 'O'), ('1861', 'O'), (',', 'O'), ('MIT', 'ORGANIZATION'), ('has', 'O'), ('played', 'O'), ('a', 'O'), ('significant', 'O'), ('role', 'O'), ('in', 'O'), ('the', 'O'), ('development', 'O'), ('of', 'O'), ('many', 'O'), ('areas', 'O'), ('of', 'O'), ('modern', 'O'), ('technology', 'O'), ('and', 'O'), ('science.Founded', 'O'), ('in', 'O'), ('response', 'O'), ('to', 'O'), ('the', 'O'), ('increasing', 'O'), ('industrialization', 'O'), ('of', 'O'), ('the', 'O'), ('United', 'LOCATION'), ('States', 'LOCATION'), (',', 'O'), ('MIT', 'ORGANIZATION'), ('adopted', 'O'), ('a', 'O'), ('European', 'O'), ('polytechnic', 'O'), ('university', 'O'), ('model', 'O'), ('and', 'O'), ('stressed', 'O'), ('laboratory', 'O'), ('instruction', 'O'), ('in', 'O'), ('applied', 'O'), ('science', 'O'), ('and', 'O'), ('engineering', 'O'), ('.', 'O')]\n",
            "['MIT', 'is', 'one', 'of', 'three', 'private', 'land', 'grant', 'universities', 'in', 'the', 'United', 'States', ',', 'the', 'others', 'being', 'Cornell', 'University', 'and', 'Tuskegee', 'University', '.']\n",
            "[('MIT', 'ORGANIZATION'), ('is', 'O'), ('one', 'O'), ('of', 'O'), ('three', 'O'), ('private', 'O'), ('land', 'O'), ('grant', 'O'), ('universities', 'O'), ('in', 'O'), ('the', 'O'), ('United', 'LOCATION'), ('States', 'LOCATION'), (',', 'O'), ('the', 'O'), ('others', 'O'), ('being', 'O'), ('Cornell', 'ORGANIZATION'), ('University', 'ORGANIZATION'), ('and', 'O'), ('Tuskegee', 'ORGANIZATION'), ('University', 'ORGANIZATION'), ('.', 'O')]\n"
          ]
        }
      ]
    },
    {
      "cell_type": "code",
      "source": [
        "\n",
        "ner3 = StanfordNERTagger('/content/drive/MyDrive/english.muc.7class.distsim.crf.ser.gz', path_to_jar='/content/drive/MyDrive/stanford-ner-4.2.0.jar')\n",
        "sentences = sent_tokenize(txt.text)\n",
        "tokenized_sentences =[word_tokenize(sentence) for sentence in sentences]\n",
        "for sent in tokenized_sentences[:3]:\n",
        "  print(sent)\n",
        "  ner3Out= ner3.tag(sent)\n",
        "  print(ner3Out)"
      ],
      "metadata": {
        "id": "nprnEMueWXT6",
        "colab": {
          "base_uri": "https://localhost:8080/"
        },
        "outputId": "4b2f1b58-2b52-4c2c-8312-1da4d8b87c15"
      },
      "execution_count": null,
      "outputs": [
        {
          "output_type": "stream",
          "name": "stdout",
          "text": [
            "['The', 'Massachusetts', 'Institute', 'of', 'Technology', '(', 'MIT', ')', 'is', 'a', 'private', 'land-grant', 'research', 'university', 'in', 'Cambridge', ',', 'Massachusetts', '.']\n",
            "[('The', 'O'), ('Massachusetts', 'ORGANIZATION'), ('Institute', 'ORGANIZATION'), ('of', 'ORGANIZATION'), ('Technology', 'ORGANIZATION'), ('(', 'ORGANIZATION'), ('MIT', 'ORGANIZATION'), (')', 'ORGANIZATION'), ('is', 'O'), ('a', 'O'), ('private', 'O'), ('land-grant', 'O'), ('research', 'O'), ('university', 'O'), ('in', 'O'), ('Cambridge', 'LOCATION'), (',', 'O'), ('Massachusetts', 'LOCATION'), ('.', 'O')]\n",
            "['Established', 'in', '1861', ',', 'MIT', 'has', 'played', 'a', 'significant', 'role', 'in', 'the', 'development', 'of', 'many', 'areas', 'of', 'modern', 'technology', 'and', 'science.Founded', 'in', 'response', 'to', 'the', 'increasing', 'industrialization', 'of', 'the', 'United', 'States', ',', 'MIT', 'adopted', 'a', 'European', 'polytechnic', 'university', 'model', 'and', 'stressed', 'laboratory', 'instruction', 'in', 'applied', 'science', 'and', 'engineering', '.']\n",
            "[('Established', 'O'), ('in', 'O'), ('1861', 'DATE'), (',', 'O'), ('MIT', 'ORGANIZATION'), ('has', 'O'), ('played', 'O'), ('a', 'O'), ('significant', 'O'), ('role', 'O'), ('in', 'O'), ('the', 'O'), ('development', 'O'), ('of', 'O'), ('many', 'O'), ('areas', 'O'), ('of', 'O'), ('modern', 'O'), ('technology', 'O'), ('and', 'O'), ('science.Founded', 'O'), ('in', 'O'), ('response', 'O'), ('to', 'O'), ('the', 'O'), ('increasing', 'O'), ('industrialization', 'O'), ('of', 'O'), ('the', 'O'), ('United', 'LOCATION'), ('States', 'LOCATION'), (',', 'O'), ('MIT', 'ORGANIZATION'), ('adopted', 'O'), ('a', 'O'), ('European', 'O'), ('polytechnic', 'O'), ('university', 'O'), ('model', 'O'), ('and', 'O'), ('stressed', 'O'), ('laboratory', 'O'), ('instruction', 'O'), ('in', 'O'), ('applied', 'O'), ('science', 'O'), ('and', 'O'), ('engineering', 'O'), ('.', 'O')]\n",
            "['MIT', 'is', 'one', 'of', 'three', 'private', 'land', 'grant', 'universities', 'in', 'the', 'United', 'States', ',', 'the', 'others', 'being', 'Cornell', 'University', 'and', 'Tuskegee', 'University', '.']\n",
            "[('MIT', 'O'), ('is', 'O'), ('one', 'O'), ('of', 'O'), ('three', 'O'), ('private', 'O'), ('land', 'O'), ('grant', 'O'), ('universities', 'O'), ('in', 'O'), ('the', 'O'), ('United', 'LOCATION'), ('States', 'LOCATION'), (',', 'O'), ('the', 'O'), ('others', 'O'), ('being', 'O'), ('Cornell', 'ORGANIZATION'), ('University', 'ORGANIZATION'), ('and', 'O'), ('Tuskegee', 'ORGANIZATION'), ('University', 'ORGANIZATION'), ('.', 'O')]\n"
          ]
        }
      ]
    },
    {
      "cell_type": "code",
      "source": [
        "ner3 = StanfordNERTagger('/content/drive/MyDrive/english.conll.4class.distsim.crf.ser.gz', path_to_jar='/content/drive/MyDrive/stanford-ner-4.2.0.jar')\n",
        "sentences = sent_tokenize(txt.text)\n",
        "tokenized_sentences =[word_tokenize(sentence) for sentence in sentences]\n",
        "for sent in tokenized_sentences[:3]:\n",
        "  print(sent)\n",
        "  ner3Out= ner3.tag(sent)\n",
        "  print(ner3Out)"
      ],
      "metadata": {
        "colab": {
          "base_uri": "https://localhost:8080/"
        },
        "id": "QuW6cXJLiCk-",
        "outputId": "3e5dcd32-7de1-4718-95bf-f5ff5233b698"
      },
      "execution_count": null,
      "outputs": [
        {
          "output_type": "stream",
          "name": "stdout",
          "text": [
            "['The', 'Massachusetts', 'Institute', 'of', 'Technology', '(', 'MIT', ')', 'is', 'a', 'private', 'land-grant', 'research', 'university', 'in', 'Cambridge', ',', 'Massachusetts', '.']\n",
            "[('The', 'O'), ('Massachusetts', 'ORGANIZATION'), ('Institute', 'ORGANIZATION'), ('of', 'ORGANIZATION'), ('Technology', 'ORGANIZATION'), ('(', 'O'), ('MIT', 'ORGANIZATION'), (')', 'O'), ('is', 'O'), ('a', 'O'), ('private', 'O'), ('land-grant', 'O'), ('research', 'O'), ('university', 'O'), ('in', 'O'), ('Cambridge', 'LOCATION'), (',', 'O'), ('Massachusetts', 'LOCATION'), ('.', 'O')]\n",
            "['Established', 'in', '1861', ',', 'MIT', 'has', 'played', 'a', 'significant', 'role', 'in', 'the', 'development', 'of', 'many', 'areas', 'of', 'modern', 'technology', 'and', 'science.Founded', 'in', 'response', 'to', 'the', 'increasing', 'industrialization', 'of', 'the', 'United', 'States', ',', 'MIT', 'adopted', 'a', 'European', 'polytechnic', 'university', 'model', 'and', 'stressed', 'laboratory', 'instruction', 'in', 'applied', 'science', 'and', 'engineering', '.']\n",
            "[('Established', 'O'), ('in', 'O'), ('1861', 'O'), (',', 'O'), ('MIT', 'ORGANIZATION'), ('has', 'O'), ('played', 'O'), ('a', 'O'), ('significant', 'O'), ('role', 'O'), ('in', 'O'), ('the', 'O'), ('development', 'O'), ('of', 'O'), ('many', 'O'), ('areas', 'O'), ('of', 'O'), ('modern', 'O'), ('technology', 'O'), ('and', 'O'), ('science.Founded', 'O'), ('in', 'O'), ('response', 'O'), ('to', 'O'), ('the', 'O'), ('increasing', 'O'), ('industrialization', 'O'), ('of', 'O'), ('the', 'O'), ('United', 'LOCATION'), ('States', 'LOCATION'), (',', 'O'), ('MIT', 'ORGANIZATION'), ('adopted', 'O'), ('a', 'O'), ('European', 'MISC'), ('polytechnic', 'O'), ('university', 'O'), ('model', 'O'), ('and', 'O'), ('stressed', 'O'), ('laboratory', 'O'), ('instruction', 'O'), ('in', 'O'), ('applied', 'O'), ('science', 'O'), ('and', 'O'), ('engineering', 'O'), ('.', 'O')]\n",
            "['MIT', 'is', 'one', 'of', 'three', 'private', 'land', 'grant', 'universities', 'in', 'the', 'United', 'States', ',', 'the', 'others', 'being', 'Cornell', 'University', 'and', 'Tuskegee', 'University', '.']\n",
            "[('MIT', 'ORGANIZATION'), ('is', 'O'), ('one', 'O'), ('of', 'O'), ('three', 'O'), ('private', 'O'), ('land', 'O'), ('grant', 'O'), ('universities', 'O'), ('in', 'O'), ('the', 'O'), ('United', 'LOCATION'), ('States', 'LOCATION'), (',', 'O'), ('the', 'O'), ('others', 'O'), ('being', 'O'), ('Cornell', 'ORGANIZATION'), ('University', 'ORGANIZATION'), ('and', 'O'), ('Tuskegee', 'ORGANIZATION'), ('University', 'ORGANIZATION'), ('.', 'O')]\n"
          ]
        }
      ]
    }
  ]
}